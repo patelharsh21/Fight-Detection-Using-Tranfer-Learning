{
 "cells": [
  {
   "cell_type": "code",
   "execution_count": 1,
   "metadata": {},
   "outputs": [
    {
     "name": "stderr",
     "output_type": "stream",
     "text": [
      "/home/harsh-patel/miniconda3/envs/fight_detection/lib/python3.12/site-packages/tqdm/auto.py:21: TqdmWarning: IProgress not found. Please update jupyter and ipywidgets. See https://ipywidgets.readthedocs.io/en/stable/user_install.html\n",
      "  from .autonotebook import tqdm as notebook_tqdm\n"
     ]
    }
   ],
   "source": [
    "import torch\n",
    "import torch.nn as nn\n",
    "import torch.nn.functional as F\n",
    "import torch.optim as optim\n",
    "from torch.utils.data import DataLoader, Dataset\n",
    "from sklearn.model_selection import train_test_split\n",
    "import matplotlib.pyplot as plt\n",
    "from tqdm.auto import tqdm\n",
    "import cv2\n",
    "import numpy as np\n",
    "\n",
    "\n",
    "fight_path_template = 'dataset/fight/fi{num:03d}.mp4'\n",
    "nofight_path_template = 'dataset/noFight/nofi{num:03d}.mp4'\n",
    "\n",
    "class DataLoading() :\n",
    "    def load_video_with_resizing_and_frame_handling(self,video_path, target_frames=32, target_size=(112, 112)):\n",
    "        cap = cv2.VideoCapture(video_path)\n",
    "        if not cap.isOpened():\n",
    "            print(f\"Error: Could not open video {video_path}\")\n",
    "            return None\n",
    "\n",
    "        frames = []\n",
    "        while True:\n",
    "            ret, frame = cap.read()\n",
    "            if not ret:\n",
    "                break\n",
    "            resized_frame = cv2.resize(frame, target_size)\n",
    "            normalized_frame = resized_frame / 255.0\n",
    "            frames.append(normalized_frame)\n",
    "\n",
    "        cap.release()\n",
    "        video_tensor = np.array(frames)\n",
    "\n",
    "        num_frames = video_tensor.shape[0]\n",
    "        if num_frames > target_frames:\n",
    "            indices = np.linspace(0, num_frames - 1, target_frames).astype(int)\n",
    "            video_tensor = video_tensor[indices]\n",
    "        elif num_frames < target_frames:\n",
    "            pad_length = target_frames - num_frames\n",
    "            padding = np.zeros((pad_length, target_size[0], target_size[1], 3))\n",
    "            video_tensor = np.concatenate((video_tensor, padding), axis=0)\n",
    "        return video_tensor # numpy array\n",
    "     \n",
    "    def get_data(self) :\n",
    "        num_samples=150\n",
    "        data=[]\n",
    "        labels=[]\n",
    "        count=0\n",
    "        for i in range(1, num_samples + 1):\n",
    "                    video_path = fight_path_template.format(num=i)\n",
    "                    video_tensor = self.load_video_with_resizing_and_frame_handling(video_path)\n",
    "                    if video_tensor is not None:\n",
    "                        count+=1\n",
    "                        data.append(video_tensor)\n",
    "                        labels.append(1)\n",
    "\n",
    "\n",
    "        for i in range(1, num_samples + 1):\n",
    "                    video_path = nofight_path_template.format(num=i)\n",
    "                    video_tensor = self.load_video_with_resizing_and_frame_handling(video_path)\n",
    "                    if video_tensor is not None:\n",
    "                        count+=1\n",
    "                        data.append(video_tensor)\n",
    "                        labels.append(0)\n",
    "        return data,labels\n",
    "\n",
    "instance=DataLoading()\n",
    "data,labels=instance.get_data()\n",
    "# Assuming tensor_X and tensor_Y are already defined\n",
    "# tensor_X: [300, 32, 112, 112, 3]\n",
    "# tensor_Y: [300]\n",
    "data=np.array(data)\n",
    "labels=np.array(labels)\n",
    "tensor_X=torch.tensor(data)\n",
    "tensor_Y=torch.tensor(labels)\n",
    "\n",
    "\n",
    "# Split into training and testing sets (80% train, 20% test)\n",
    "X_train, X_test, y_train, y_test = train_test_split(\n",
    "    tensor_X, tensor_Y, test_size=0.2, random_state=42, stratify=tensor_Y\n",
    ")\n",
    "\n",
    "# Permute the tensors to [batch_size, channels, depth, height, width]\n",
    "X_train = X_train.permute(0, 4, 1, 2, 3).float()  # Shape: [240, 3, 32, 112, 112]\n",
    "X_test = X_test.permute(0, 4, 1, 2, 3).float()    # Shape: [60, 3, 32, 112, 112]\n",
    "\n",
    "# Ensure labels are float for BCEWithLogitsLoss\n",
    "y_train = y_train.float()  # Shape: [240]\n",
    "y_test = y_test.float()    # Shape: [60]\n",
    "\n",
    "class VideoDataset(Dataset):\n",
    "    def __init__(self, videos, labels):\n",
    "        self.videos = videos  # Tensor containing video data [batch, 3, 32, 112, 112]\n",
    "        self.labels = labels  # Tensor containing labels [batch]\n",
    "\n",
    "    def __len__(self):\n",
    "        return len(self.videos)\n",
    "\n",
    "    def __getitem__(self, idx):\n",
    "        video = self.videos[idx]    # [3, 32, 112, 112]\n",
    "        label = self.labels[idx]    # Scalar float (0.0 or 1.0)\n",
    "        return video, label\n",
    "\n",
    "# Create Dataset instances\n",
    "dataset_train = VideoDataset(X_train, y_train)\n",
    "dataset_test = VideoDataset(X_test, y_test)\n",
    "\n",
    "# Create DataLoader instances\n",
    "batch_size = 2\n",
    "data_loader_train = DataLoader(dataset_train, batch_size=batch_size, shuffle=True, num_workers=4)\n",
    "data_loader_test = DataLoader(dataset_test, batch_size=batch_size, shuffle=False, num_workers=4)\n",
    "\n"
   ]
  },
  {
   "cell_type": "markdown",
   "metadata": {},
   "source": [
    "## Training Model "
   ]
  },
  {
   "cell_type": "code",
   "execution_count": 4,
   "metadata": {},
   "outputs": [
    {
     "name": "stderr",
     "output_type": "stream",
     "text": [
      "/home/harsh-patel/miniconda3/envs/fight_detection/lib/python3.12/site-packages/torchvision/models/_utils.py:208: UserWarning: The parameter 'pretrained' is deprecated since 0.13 and may be removed in the future, please use 'weights' instead.\n",
      "  warnings.warn(\n",
      "/home/harsh-patel/miniconda3/envs/fight_detection/lib/python3.12/site-packages/torchvision/models/_utils.py:223: UserWarning: Arguments other than a weight enum or `None` for 'weights' are deprecated since 0.13 and may be removed in the future. The current behavior is equivalent to passing `weights=R3D_18_Weights.KINETICS400_V1`. You can also use `weights=R3D_18_Weights.DEFAULT` to get the most up-to-date weights.\n",
      "  warnings.warn(msg)\n"
     ]
    },
    {
     "name": "stdout",
     "output_type": "stream",
     "text": [
      "Using device: cuda\n"
     ]
    },
    {
     "name": "stderr",
     "output_type": "stream",
     "text": [
      "Training Epochs:   5%|▌         | 1/20 [01:35<30:16, 95.62s/it]"
     ]
    },
    {
     "name": "stdout",
     "output_type": "stream",
     "text": [
      "Epoch [1/20], Train Loss: 0.7490, Train Acc: 50.00%, Test Loss: 0.6931, Test Acc: 50.00%\n"
     ]
    },
    {
     "name": "stderr",
     "output_type": "stream",
     "text": [
      "Training Epochs:  10%|█         | 2/20 [03:13<29:03, 96.86s/it]"
     ]
    },
    {
     "name": "stdout",
     "output_type": "stream",
     "text": [
      "Epoch [2/20], Train Loss: 0.6931, Train Acc: 50.00%, Test Loss: 0.6931, Test Acc: 50.00%\n"
     ]
    },
    {
     "name": "stderr",
     "output_type": "stream",
     "text": [
      "Training Epochs:  15%|█▌        | 3/20 [04:57<28:20, 100.04s/it]"
     ]
    },
    {
     "name": "stdout",
     "output_type": "stream",
     "text": [
      "Epoch [3/20], Train Loss: 0.6931, Train Acc: 50.00%, Test Loss: 0.6931, Test Acc: 50.00%\n"
     ]
    },
    {
     "name": "stderr",
     "output_type": "stream",
     "text": [
      "Training Epochs:  20%|██        | 4/20 [06:46<27:41, 103.81s/it]"
     ]
    },
    {
     "name": "stdout",
     "output_type": "stream",
     "text": [
      "Epoch [4/20], Train Loss: 0.6931, Train Acc: 50.00%, Test Loss: 0.6931, Test Acc: 50.00%\n"
     ]
    },
    {
     "name": "stderr",
     "output_type": "stream",
     "text": [
      "Training Epochs:  25%|██▌       | 5/20 [08:37<26:34, 106.32s/it]"
     ]
    },
    {
     "name": "stdout",
     "output_type": "stream",
     "text": [
      "Epoch [5/20], Train Loss: 0.6931, Train Acc: 50.00%, Test Loss: 0.6931, Test Acc: 50.00%\n"
     ]
    },
    {
     "name": "stderr",
     "output_type": "stream",
     "text": [
      "Training Epochs:  30%|███       | 6/20 [10:29<25:14, 108.16s/it]"
     ]
    },
    {
     "name": "stdout",
     "output_type": "stream",
     "text": [
      "Epoch [6/20], Train Loss: 0.6932, Train Acc: 50.00%, Test Loss: 0.6931, Test Acc: 50.00%\n"
     ]
    },
    {
     "name": "stderr",
     "output_type": "stream",
     "text": [
      "Training Epochs:  35%|███▌      | 7/20 [12:21<23:45, 109.64s/it]"
     ]
    },
    {
     "name": "stdout",
     "output_type": "stream",
     "text": [
      "Epoch [7/20], Train Loss: 0.6931, Train Acc: 50.00%, Test Loss: 0.6931, Test Acc: 50.00%\n"
     ]
    },
    {
     "name": "stderr",
     "output_type": "stream",
     "text": [
      "Training Epochs:  40%|████      | 8/20 [14:15<22:10, 110.91s/it]"
     ]
    },
    {
     "name": "stdout",
     "output_type": "stream",
     "text": [
      "Epoch [8/20], Train Loss: 0.6931, Train Acc: 50.00%, Test Loss: 0.6931, Test Acc: 50.00%\n"
     ]
    },
    {
     "name": "stderr",
     "output_type": "stream",
     "text": [
      "Training Epochs:  45%|████▌     | 9/20 [16:08<20:26, 111.54s/it]"
     ]
    },
    {
     "name": "stdout",
     "output_type": "stream",
     "text": [
      "Epoch [9/20], Train Loss: 0.6931, Train Acc: 50.00%, Test Loss: 0.6931, Test Acc: 50.00%\n"
     ]
    },
    {
     "name": "stderr",
     "output_type": "stream",
     "text": [
      "Training Epochs:  50%|█████     | 10/20 [17:59<18:35, 111.51s/it]"
     ]
    },
    {
     "name": "stdout",
     "output_type": "stream",
     "text": [
      "Epoch [10/20], Train Loss: 0.6931, Train Acc: 50.00%, Test Loss: 0.6931, Test Acc: 50.00%\n"
     ]
    },
    {
     "name": "stderr",
     "output_type": "stream",
     "text": [
      "Training Epochs:  55%|█████▌    | 11/20 [19:54<16:52, 112.48s/it]"
     ]
    },
    {
     "name": "stdout",
     "output_type": "stream",
     "text": [
      "Epoch [11/20], Train Loss: 0.6931, Train Acc: 50.00%, Test Loss: 0.6931, Test Acc: 50.00%\n"
     ]
    },
    {
     "name": "stderr",
     "output_type": "stream",
     "text": [
      "Training Epochs:  55%|█████▌    | 11/20 [21:18<17:25, 116.20s/it]\n"
     ]
    },
    {
     "ename": "KeyboardInterrupt",
     "evalue": "",
     "output_type": "error",
     "traceback": [
      "\u001b[0;31m---------------------------------------------------------------------------\u001b[0m",
      "\u001b[0;31mKeyboardInterrupt\u001b[0m                         Traceback (most recent call last)",
      "Cell \u001b[0;32mIn[4], line 60\u001b[0m\n\u001b[1;32m     57\u001b[0m loss\u001b[38;5;241m.\u001b[39mbackward()          \u001b[38;5;66;03m# Backward pass\u001b[39;00m\n\u001b[1;32m     58\u001b[0m optimizer\u001b[38;5;241m.\u001b[39mstep()         \u001b[38;5;66;03m# Update weights\u001b[39;00m\n\u001b[0;32m---> 60\u001b[0m running_loss \u001b[38;5;241m+\u001b[39m\u001b[38;5;241m=\u001b[39m \u001b[43mloss\u001b[49m\u001b[38;5;241;43m.\u001b[39;49m\u001b[43mitem\u001b[49m\u001b[43m(\u001b[49m\u001b[43m)\u001b[49m \u001b[38;5;241m*\u001b[39m batch_videos\u001b[38;5;241m.\u001b[39msize(\u001b[38;5;241m0\u001b[39m)\n\u001b[1;32m     62\u001b[0m \u001b[38;5;66;03m# Calculate accuracy\u001b[39;00m\n\u001b[1;32m     63\u001b[0m preds \u001b[38;5;241m=\u001b[39m torch\u001b[38;5;241m.\u001b[39msigmoid(outputs) \u001b[38;5;241m>\u001b[39m\u001b[38;5;241m=\u001b[39m \u001b[38;5;241m0.5\u001b[39m  \u001b[38;5;66;03m# Apply sigmoid and threshold at 0.5\u001b[39;00m\n",
      "\u001b[0;31mKeyboardInterrupt\u001b[0m: "
     ]
    }
   ],
   "source": [
    "\n",
    "import torchvision\n",
    "# Load the pretrained r3d_18 model\n",
    "pretrained_model = torchvision.models.video.r3d_18(pretrained=True)\n",
    "\n",
    "pretrained_model.to(device)\n",
    "import torch.nn.functional as F\n",
    "class Simple3DCNN(nn.Module):\n",
    "    def __init__(self):\n",
    "        super(Simple3DCNN, self).__init__()\n",
    "        self.fc1 = nn.Linear(400, 128)  # Adjusted input features\n",
    "        self.fc2 = nn.Linear(128, 1)   # Output layer for binary classification\n",
    "\n",
    "    def forward(self, x):\n",
    "        x=pretrained_model(x)\n",
    "        x=F.relu(self.fc1(x))\n",
    "        x=F.relu(self.fc2(x))\n",
    "        return x\n",
    "\n",
    "# Device configuration\n",
    "device = torch.device('cuda' if torch.cuda.is_available() else 'cpu')\n",
    "print(f'Using device: {device}')\n",
    "\n",
    "# Initialize the model and move to device\n",
    "model = Simple3DCNN().to(device)\n",
    "\n",
    "# Define loss function and optimizer\n",
    "criterion = nn.BCEWithLogitsLoss()\n",
    "optimizer = optim.Adam(model.parameters(), lr=0.01)\n",
    "\n",
    "# Initialize lists to store loss and accuracy\n",
    "train_losses = []\n",
    "train_accuracies = []\n",
    "test_losses = []\n",
    "test_accuracies = []\n",
    "\n",
    "# Training and Testing Loop\n",
    "num_epochs = 20\n",
    "\n",
    "for epoch in tqdm(range(num_epochs), desc='Training Epochs'):\n",
    "    # Training Phase\n",
    "    model.train()\n",
    "    running_loss = 0.0\n",
    "    correct = 0\n",
    "    total = 0\n",
    "\n",
    "    for batch_videos, batch_labels in data_loader_train:\n",
    "        # Move data to device\n",
    "        batch_videos = batch_videos.to(device)    # [batch_size, 3, 32, 112, 112]\n",
    "        batch_labels = batch_labels.to(device)    # [batch_size]\n",
    "\n",
    "        optimizer.zero_grad()  # Zero the gradients\n",
    "\n",
    "        outputs = model(batch_videos)            # [batch_size, 1]\n",
    "        outputs = outputs.squeeze(1)             # [batch_size]\n",
    "        loss = criterion(outputs, batch_labels)  # BCEWithLogitsLoss\n",
    "\n",
    "        loss.backward()          # Backward pass\n",
    "        optimizer.step()         # Update weights\n",
    "\n",
    "        running_loss += loss.item() * batch_videos.size(0)\n",
    "\n",
    "        # Calculate accuracy\n",
    "        preds = torch.sigmoid(outputs) >= 0.5  # Apply sigmoid and threshold at 0.5\n",
    "        correct += (preds.float() == batch_labels).sum().item()\n",
    "        total += batch_labels.size(0)\n",
    "\n",
    "    epoch_loss = running_loss / len(data_loader_train.dataset)\n",
    "    epoch_acc = 100 * correct / total\n",
    "    train_losses.append(epoch_loss)\n",
    "    train_accuracies.append(epoch_acc)\n",
    "\n",
    "    # Testing Phase\n",
    "    model.eval()\n",
    "    test_running_loss = 0.0\n",
    "    test_correct = 0\n",
    "    test_total = 0\n",
    "\n",
    "    with torch.no_grad():\n",
    "        for batch_videos, batch_labels in data_loader_test:\n",
    "            batch_videos = batch_videos.to(device)\n",
    "            batch_labels = batch_labels.to(device)\n",
    "\n",
    "            outputs = model(batch_videos)\n",
    "            outputs = outputs.squeeze(1)\n",
    "            loss = criterion(outputs, batch_labels)\n",
    "\n",
    "            test_running_loss += loss.item() * batch_videos.size(0)\n",
    "\n",
    "            # Calculate accuracy\n",
    "            preds = torch.sigmoid(outputs) >= 0.5\n",
    "            test_correct += (preds.float() == batch_labels).sum().item()\n",
    "            test_total += batch_labels.size(0)\n",
    "\n",
    "    test_epoch_loss = test_running_loss / len(data_loader_test.dataset)\n",
    "    test_epoch_acc = 100 * test_correct / test_total\n",
    "    test_losses.append(test_epoch_loss)\n",
    "    test_accuracies.append(test_epoch_acc)\n",
    "\n",
    "    print(f'Epoch [{epoch+1}/{num_epochs}], '\n",
    "          f'Train Loss: {epoch_loss:.4f}, Train Acc: {epoch_acc:.2f}%, '\n",
    "          f'Test Loss: {test_epoch_loss:.4f}, Test Acc: {test_epoch_acc:.2f}%')\n",
    "\n",
    "# Visualize the training and testing loss and accuracy\n",
    "plt.figure(figsize=(14, 6))\n",
    "\n",
    "# Loss Plot\n",
    "plt.subplot(1, 2, 1)\n",
    "plt.plot(range(1, num_epochs+1), train_losses, label='Train Loss', marker='o')\n",
    "plt.plot(range(1, num_epochs+1), test_losses, label='Test Loss', marker='o')\n",
    "plt.xlabel('Epoch')\n",
    "plt.ylabel('Loss')\n",
    "plt.title('Training and Test Loss over Epochs')\n",
    "plt.legend()\n",
    "plt.grid(True)\n",
    "\n",
    "# Accuracy Plot\n",
    "plt.subplot(1, 2, 2)\n",
    "plt.plot(range(1, num_epochs+1), train_accuracies, label='Train Accuracy', marker='o')\n",
    "plt.plot(range(1, num_epochs+1), test_accuracies, label='Test Accuracy', marker='o')\n",
    "plt.xlabel('Epoch')\n",
    "plt.ylabel('Accuracy (%)')\n",
    "plt.title('Training and Test Accuracy over Epochs')\n",
    "plt.legend()\n",
    "plt.grid(True)\n",
    "\n",
    "plt.tight_layout()\n",
    "plt.show()\n"
   ]
  },
  {
   "cell_type": "code",
   "execution_count": null,
   "metadata": {},
   "outputs": [],
   "source": []
  }
 ],
 "metadata": {
  "kernelspec": {
   "display_name": "fight_detection",
   "language": "python",
   "name": "python3"
  },
  "language_info": {
   "codemirror_mode": {
    "name": "ipython",
    "version": 3
   },
   "file_extension": ".py",
   "mimetype": "text/x-python",
   "name": "python",
   "nbconvert_exporter": "python",
   "pygments_lexer": "ipython3",
   "version": "3.12.4"
  }
 },
 "nbformat": 4,
 "nbformat_minor": 2
}
